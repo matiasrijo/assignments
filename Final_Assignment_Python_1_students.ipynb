{
 "cells": [
  {
   "cell_type": "markdown",
   "metadata": {},
   "source": [
    "# Final Python Assignment\n",
    "\n",
    "Use the following table to provide us with\n",
    "\n",
    "|name | student number|\n",
    "|----|----|\n",
    "|Matias Rijo Mato| 2001868 |\n",
    "|Giulia Carlucci| ANR: 484239 |"
   ]
  },
  {
   "cell_type": "markdown",
   "metadata": {},
   "source": [
    "# Read this carefully\n",
    "\n",
    "This is the final assignment for python. You also need to make the R part of this final assignment. \n",
    "\n",
    "With this python part of the final assignment, you can earn 4 points.\n",
    "\n",
    "This assignment needs to be uploaded June 13 (23:59 at the latest). You cannot use this assignment for the resit!\n",
    "\n",
    "After you have finished this exam, do the following:\n",
    "\n",
    "* upload your python and R files to github\n",
    "* create two links in your README file:\n",
    "\n",
    "    * one link to \"final python assignment\"\n",
    "    * one link to \"final R assignment\"\n",
    "\n",
    "* fill in the google form (see link on Blackboard) that you have uploaded your files\n",
    "* use the same student number you gave us before, otherwise we cannot retrieve your pass/fail grades\n"
   ]
  },
  {
   "cell_type": "markdown",
   "metadata": {},
   "source": [
    "# Bargaining model\n",
    "\n",
    "In the python lectures we considered a two period bargaining model. In the assignment of week 5, we extended this to a three period model.\n",
    "\n",
    "In this final assignment we are going to extend the model to $n$ periods, where $n$ is a variable.\n",
    "\n",
    "Although in the lectures and assignments we worked with plotly to make graphs, here we will use [matplotlib](https://matplotlib.org/). Hence, you need to google to see how plots are made using this library. An important aspect of using open source software is that you can figure out yourself how to use (new) things.\n",
    "\n",
    "\n",
    "# Import libraries\n",
    "\n",
    "First, we need to import some libraries:"
   ]
  },
  {
   "cell_type": "code",
   "execution_count": 46,
   "metadata": {
    "collapsed": true
   },
   "outputs": [],
   "source": [
    "import numpy as np\n",
    "import matplotlib.pyplot as plt\n",
    "%matplotlib inline\n"
   ]
  },
  {
   "cell_type": "markdown",
   "metadata": {},
   "source": [
    "**1)** [0.5 point] Use `np.arrange` to create a list of offers between 0.0 and 10.0 (including 10.0) with step 0.1:"
   ]
  },
  {
   "cell_type": "code",
   "execution_count": 119,
   "metadata": {},
   "outputs": [
    {
     "name": "stdout",
     "output_type": "stream",
     "text": [
      "[  0.    0.1   0.2   0.3   0.4   0.5   0.6   0.7   0.8   0.9   1.    1.1\n",
      "   1.2   1.3   1.4   1.5   1.6   1.7   1.8   1.9   2.    2.1   2.2   2.3\n",
      "   2.4   2.5   2.6   2.7   2.8   2.9   3.    3.1   3.2   3.3   3.4   3.5\n",
      "   3.6   3.7   3.8   3.9   4.    4.1   4.2   4.3   4.4   4.5   4.6   4.7\n",
      "   4.8   4.9   5.    5.1   5.2   5.3   5.4   5.5   5.6   5.7   5.8   5.9\n",
      "   6.    6.1   6.2   6.3   6.4   6.5   6.6   6.7   6.8   6.9   7.    7.1\n",
      "   7.2   7.3   7.4   7.5   7.6   7.7   7.8   7.9   8.    8.1   8.2   8.3\n",
      "   8.4   8.5   8.6   8.7   8.8   8.9   9.    9.1   9.2   9.3   9.4   9.5\n",
      "   9.6   9.7   9.8   9.9  10. ]\n"
     ]
    }
   ],
   "source": [
    "min_offer = 0.0\n",
    "max_offer = 10.0\n",
    "step = 0.1\n",
    "offers = np.arange ( min_offer, max_offer + 0.1, 0.1)\n",
    " \n",
    "print ( offers) "
   ]
  },
  {
   "cell_type": "markdown",
   "metadata": {},
   "source": [
    "By specifying the min_offer to 0 and then the max_offer to 10 we select the range of the offer. Steps indicate the level to which it goes up or down, being in this case 0.1. When we use np.arange we have to specify we want the maximum offer is +0.1 because we want to include the 10 on the outcomes. By printing offers, we print the outcomes and see all the values from 0 to 10 with a difference of 0.1 each"
   ]
  },
  {
   "cell_type": "markdown",
   "metadata": {},
   "source": [
    "**2)** [0.5 point] Introduce the functions `accept_offer` and `make_offer` as in the lecture:"
   ]
  },
  {
   "cell_type": "code",
   "execution_count": 120,
   "metadata": {
    "collapsed": true
   },
   "outputs": [],
   "source": [
    "def accept_offer ( offer, your_outside_option):\n",
    "    accept = ( offer >= your_outside_option)\n",
    "    return accept\n",
    " \n",
    "def make_offer ( your_outside_option, other_outside_option):\n",
    "    profits = [ ( max_offer-offer) * accept_offer ( offer, other_outside_option) for offer in offers]\n",
    "    max_profit = max ( profits)\n",
    "    max_index = profits.index ( max_profit)\n",
    "    if max_profit >= your_outside_option:\n",
    "        your_offer = offers [ max_index]\n",
    "        your_profit = max_offer-offers [ max_index]\n",
    "        other_profit = offers [ max_index]\n",
    "    else:\n",
    "        your_offer = -1 \n",
    "        your_profit = your_outside_option\n",
    "        other_profit = other_outside_option\n",
    "    return your_offer, your_profit, other_profit\n",
    "\n"
   ]
  },
  {
   "cell_type": "markdown",
   "metadata": {},
   "source": [
    "The previous functions are the functions used on the tutorial excercise that allows us to specify the resulting outcome of this \"experiment\"."
   ]
  },
  {
   "cell_type": "markdown",
   "metadata": {},
   "source": [
    "**3)** [0.5 point] Initialize a dictionary `offer` as in the assignment of week 5:"
   ]
  },
  {
   "cell_type": "code",
   "execution_count": 121,
   "metadata": {
    "collapsed": true
   },
   "outputs": [],
   "source": [
    "delta = 0.9\n",
    "offer = {}"
   ]
  },
  {
   "cell_type": "markdown",
   "metadata": {
    "collapsed": true
   },
   "source": [
    "We specify the outcome 0.9 as delta"
   ]
  },
  {
   "cell_type": "markdown",
   "metadata": {},
   "source": [
    "**4)** [0.5 point] Complete the following function such that it returns the payoffs to players 1 and 2 for a game of length $n$ periods when the discount factor is given by $\\delta$:"
   ]
  },
  {
   "cell_type": "code",
   "execution_count": 133,
   "metadata": {},
   "outputs": [],
   "source": [
    "def outcome ( n, delta):\n",
    "    offer [ n+1]= [ 0, 0, 0]\n",
    "    for i in range ( n):\n",
    "        offer [ n-i]= make_offer ( delta * offer [ n-i+1][2], delta * offer [ n-i+1][1])\n",
    "    return offer \n"
   ]
  },
  {
   "cell_type": "markdown",
   "metadata": {},
   "source": [
    "The previous function specifies the outcome for players 1 and 2 for the next question."
   ]
  },
  {
   "cell_type": "markdown",
   "metadata": {},
   "source": [
    "**5)** [0.5 point] Check the outcomes for the case where $\\delta = 0.9$, $n=1, 2$ and $n=3$ (these are outcomes that you have seen before)."
   ]
  },
  {
   "cell_type": "code",
   "execution_count": 134,
   "metadata": {},
   "outputs": [
    {
     "name": "stdout",
     "output_type": "stream",
     "text": [
      "{2: [0, 0, 0], 1: (0.0, 10.0, 0.0), 4: [0, 0, 0], 3: [0, 0, 0], 5: (0.90000000000000002, 9.0999999999999996, 0.90000000000000002), 6: (0.90000000000000002, 9.0999999999999996, 0.90000000000000002), 7: (0.90000000000000002, 9.0999999999999996, 0.90000000000000002), 8: (0.90000000000000002, 9.0999999999999996, 0.90000000000000002), 9: (0.90000000000000002, 9.0999999999999996, 0.90000000000000002), 10: (0.90000000000000002, 9.0999999999999996, 0.90000000000000002), 11: (0.90000000000000002, 9.0999999999999996, 0.90000000000000002), 12: (0.90000000000000002, 9.0999999999999996, 0.90000000000000002), 13: (0.90000000000000002, 9.0999999999999996, 0.90000000000000002), 14: (0.90000000000000002, 9.0999999999999996, 0.90000000000000002), 15: (0.90000000000000002, 9.0999999999999996, 0.90000000000000002), 16: (0.90000000000000002, 9.0999999999999996, 0.90000000000000002), 17: (0.90000000000000002, 9.0999999999999996, 0.90000000000000002), 18: (0.90000000000000002, 9.0999999999999996, 0.90000000000000002), 19: (0.90000000000000002, 9.0999999999999996, 0.90000000000000002), 20: (0.90000000000000002, 9.0999999999999996, 0.90000000000000002), 21: (0.90000000000000002, 9.0999999999999996, 0.90000000000000002), 22: (0.90000000000000002, 9.0999999999999996, 0.90000000000000002), 23: (0.90000000000000002, 9.0999999999999996, 0.90000000000000002), 24: (0.90000000000000002, 9.0999999999999996, 0.90000000000000002), 25: (0.90000000000000002, 9.0999999999999996, 0.90000000000000002), 26: (0.90000000000000002, 9.0999999999999996, 0.90000000000000002), 27: (0.90000000000000002, 9.0999999999999996, 0.90000000000000002), 28: (0.90000000000000002, 9.0999999999999996, 0.90000000000000002), 29: (0.90000000000000002, 9.0999999999999996, 0.90000000000000002), 30: (0.90000000000000002, 9.0999999999999996, 0.90000000000000002), 31: [0, 0, 0], 0: (0.0, 10.0, 0.0)}\n",
      "{2: (9.0, 1.0, 9.0), 1: (0.90000000000000002, 9.0999999999999996, 0.90000000000000002), 4: [0, 0, 0], 3: (0.0, 10.0, 0.0), 5: (0.90000000000000002, 9.0999999999999996, 0.90000000000000002), 6: (0.90000000000000002, 9.0999999999999996, 0.90000000000000002), 7: (0.90000000000000002, 9.0999999999999996, 0.90000000000000002), 8: (0.90000000000000002, 9.0999999999999996, 0.90000000000000002), 9: (0.90000000000000002, 9.0999999999999996, 0.90000000000000002), 10: (0.90000000000000002, 9.0999999999999996, 0.90000000000000002), 11: (0.90000000000000002, 9.0999999999999996, 0.90000000000000002), 12: (0.90000000000000002, 9.0999999999999996, 0.90000000000000002), 13: (0.90000000000000002, 9.0999999999999996, 0.90000000000000002), 14: (0.90000000000000002, 9.0999999999999996, 0.90000000000000002), 15: (0.90000000000000002, 9.0999999999999996, 0.90000000000000002), 16: (0.90000000000000002, 9.0999999999999996, 0.90000000000000002), 17: (0.90000000000000002, 9.0999999999999996, 0.90000000000000002), 18: (0.90000000000000002, 9.0999999999999996, 0.90000000000000002), 19: (0.90000000000000002, 9.0999999999999996, 0.90000000000000002), 20: (0.90000000000000002, 9.0999999999999996, 0.90000000000000002), 21: (0.90000000000000002, 9.0999999999999996, 0.90000000000000002), 22: (0.90000000000000002, 9.0999999999999996, 0.90000000000000002), 23: (0.90000000000000002, 9.0999999999999996, 0.90000000000000002), 24: (0.90000000000000002, 9.0999999999999996, 0.90000000000000002), 25: (0.90000000000000002, 9.0999999999999996, 0.90000000000000002), 26: (0.90000000000000002, 9.0999999999999996, 0.90000000000000002), 27: (0.90000000000000002, 9.0999999999999996, 0.90000000000000002), 28: (0.90000000000000002, 9.0999999999999996, 0.90000000000000002), 29: (0.90000000000000002, 9.0999999999999996, 0.90000000000000002), 30: (0.90000000000000002, 9.0999999999999996, 0.90000000000000002), 31: [0, 0, 0], 0: (0.0, 10.0, 0.0)}\n",
      "{2: (0.0, 10.0, 0.0), 1: (9.0, 1.0, 9.0), 4: [0, 0, 0], 3: [0, 0, 0], 5: (0.90000000000000002, 9.0999999999999996, 0.90000000000000002), 6: (0.90000000000000002, 9.0999999999999996, 0.90000000000000002), 7: (0.90000000000000002, 9.0999999999999996, 0.90000000000000002), 8: (0.90000000000000002, 9.0999999999999996, 0.90000000000000002), 9: (0.90000000000000002, 9.0999999999999996, 0.90000000000000002), 10: (0.90000000000000002, 9.0999999999999996, 0.90000000000000002), 11: (0.90000000000000002, 9.0999999999999996, 0.90000000000000002), 12: (0.90000000000000002, 9.0999999999999996, 0.90000000000000002), 13: (0.90000000000000002, 9.0999999999999996, 0.90000000000000002), 14: (0.90000000000000002, 9.0999999999999996, 0.90000000000000002), 15: (0.90000000000000002, 9.0999999999999996, 0.90000000000000002), 16: (0.90000000000000002, 9.0999999999999996, 0.90000000000000002), 17: (0.90000000000000002, 9.0999999999999996, 0.90000000000000002), 18: (0.90000000000000002, 9.0999999999999996, 0.90000000000000002), 19: (0.90000000000000002, 9.0999999999999996, 0.90000000000000002), 20: (0.90000000000000002, 9.0999999999999996, 0.90000000000000002), 21: (0.90000000000000002, 9.0999999999999996, 0.90000000000000002), 22: (0.90000000000000002, 9.0999999999999996, 0.90000000000000002), 23: (0.90000000000000002, 9.0999999999999996, 0.90000000000000002), 24: (0.90000000000000002, 9.0999999999999996, 0.90000000000000002), 25: (0.90000000000000002, 9.0999999999999996, 0.90000000000000002), 26: (0.90000000000000002, 9.0999999999999996, 0.90000000000000002), 27: (0.90000000000000002, 9.0999999999999996, 0.90000000000000002), 28: (0.90000000000000002, 9.0999999999999996, 0.90000000000000002), 29: (0.90000000000000002, 9.0999999999999996, 0.90000000000000002), 30: (0.90000000000000002, 9.0999999999999996, 0.90000000000000002), 31: [0, 0, 0], 0: (0.0, 10.0, 0.0)}\n"
     ]
    }
   ],
   "source": [
    "delta = 0.9\n",
    "print(outcome( 1, 0.9))\n",
    "print(outcome( 3, 0.9))\n",
    "print(outcome( 2, 0.9))\n"
   ]
  },
  {
   "cell_type": "markdown",
   "metadata": {},
   "source": [
    "Here we print the outcomes for 1, 2 and 3, with δ = 0.9. I cannot get the outcome i should be getting, something is wrong on my variable but i cannot find the mistake. Real answer should be:\n",
    "_n=1: (0.0, 10.0, 0.0); n=2: (9.0, 1.0, 9.0); n=3: (0.9, 9.09, 0.9)_\n"
   ]
  },
  {
   "cell_type": "markdown",
   "metadata": {},
   "source": [
    "**6)** [1 point] *Using matplotlib* plot for the case with $\\delta =0.9$, the payoff for player 1 of a game that lasts for 1 round, a game that lasts for 2 rounds, up till a game that lasts 30 rounds. On the horizontal axis, we have the length of the game $n$; on the vertical axis the payoff to player 1."
   ]
  },
  {
   "cell_type": "code",
   "execution_count": 136,
   "metadata": {},
   "outputs": [
    {
     "data": {
      "text/plain": [
       "[<matplotlib.lines.Line2D at 0x118eecd30>]"
      ]
     },
     "execution_count": 136,
     "metadata": {},
     "output_type": "execute_result"
    },
    {
     "data": {
      "image/png": "[encoded data removed]",
      "text/plain": [
       "<matplotlib.figure.Figure at 0x1181b0748>"
      ]
     },
     "metadata": {},
     "output_type": "display_data"
    }
   ],
   "source": [
    "n=30\n",
    "delta = 0.9\n",
    "range_n = [ n for n in range ( 31)]\n",
    "payoff1 = [ outcome( n, delta)[ 1][ 1] for n in range( 31)]\n",
    "plt.xlim ( 0,30)\n",
    "plt.xticks ( [ 0, 2, 4, 6, 8, 10, 12, 14, 16, 18, 20, 22, 24, 26, 28, 30])\n",
    "plt.xlabel ( \"Range\")\n",
    "plt.ylim ( 0.0,10.0)\n",
    "plt.yticks ( [ 0, 1, 2, 3, 4, 5, 6, 7, 8, 9, 10])\n",
    "plt.ylabel ( \"Payoff player 1\")\n",
    "plt.plot ( range_n, payoff1)\n"
   ]
  },
  {
   "cell_type": "markdown",
   "metadata": {},
   "source": [
    "Explain"
   ]
  },
  {
   "cell_type": "markdown",
   "metadata": {},
   "source": [
    "**7)** [0.5 point] What pattern do you see in the graph? What is the intuition/explanation for this? [hint: if you cannot plot the outcome with matplotlib, you can still answer this question; e.g. simply by looking at the outcomes for different values of $n$]"
   ]
  },
  {
   "cell_type": "markdown",
   "metadata": {},
   "source": [
    "We can see that the payoff of both players average out, as it increases and decreases until it reaches the long run constant value of 5."
   ]
  },
  {
   "cell_type": "code",
   "execution_count": null,
   "metadata": {
    "collapsed": true
   },
   "outputs": [],
   "source": []
  },
  {
   "cell_type": "code",
   "execution_count": null,
   "metadata": {
    "collapsed": true
   },
   "outputs": [],
   "source": []
  }
 ],
 "metadata": {
  "anaconda-cloud": {},
  "kernelspec": {
   "display_name": "Python 3",
   "language": "python",
   "name": "python3"
  },
  "language_info": {
   "codemirror_mode": {
    "name": "ipython",
    "version": 3
   },
   "file_extension": ".py",
   "mimetype": "text/x-python",
   "name": "python",
   "nbconvert_exporter": "python",
   "pygments_lexer": "ipython3",
   "version": "3.6.1"
  }
 },
 "nbformat": 4,
 "nbformat_minor": 1
}
